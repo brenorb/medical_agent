{
 "cells": [
  {
   "cell_type": "code",
   "execution_count": null,
   "id": "82bd62fa",
   "metadata": {},
   "outputs": [
    {
     "name": "stdout",
     "output_type": "stream",
     "text": [
      "Loaded 16206 samples from data/rag_questions.pkl\n",
      "Loaded 16206 samples from data/rag_answers.pkl\n",
      "Loaded 100 samples from data/train_questions.pkl\n",
      "Loaded 100 samples from data/train_answers.pkl\n",
      "Loaded 100 samples from data/test_questions.pkl\n",
      "Loaded 100 samples from data/test_answers.pkl\n",
      "Average Metric: 92.00 / 100 (92.0%): 100%|██████████| 100/100 [00:00<00:00, 431.66it/s]"
     ]
    },
    {
     "name": "stderr",
     "output_type": "stream",
     "text": [
      "2025/07/11 01:47:10 INFO dspy.evaluate.evaluate: Average Metric: 92 / 100 (92.0%)\n"
     ]
    },
    {
     "name": "stdout",
     "output_type": "stream",
     "text": [
      "\n"
     ]
    },
    {
     "data": {
      "text/html": [
       "<div>\n",
       "<style scoped>\n",
       "    .dataframe tbody tr th:only-of-type {\n",
       "        vertical-align: middle;\n",
       "    }\n",
       "\n",
       "    .dataframe tbody tr th {\n",
       "        vertical-align: top;\n",
       "    }\n",
       "\n",
       "    .dataframe thead th {\n",
       "        text-align: right;\n",
       "    }\n",
       "</style>\n",
       "<table border=\"1\" class=\"dataframe\">\n",
       "  <thead>\n",
       "    <tr style=\"text-align: right;\">\n",
       "      <th></th>\n",
       "      <th>medical_question</th>\n",
       "      <th>answer</th>\n",
       "      <th>prediction</th>\n",
       "      <th>metric</th>\n",
       "    </tr>\n",
       "  </thead>\n",
       "  <tbody>\n",
       "    <tr>\n",
       "      <th>0</th>\n",
       "      <td>How many people are affected by Balance Problems ?</td>\n",
       "      <td>In 2008, an estimated 14.8 percent of American adults (33.4 millio...</td>\n",
       "      <td>Approximately 30% of older adults experience balance problems, but...</td>\n",
       "      <td></td>\n",
       "    </tr>\n",
       "    <tr>\n",
       "      <th>1</th>\n",
       "      <td>Is Moebius syndrome inherited ?</td>\n",
       "      <td>Most cases of Moebius syndrome are sporadic, which means they occu...</td>\n",
       "      <td>Moebius syndrome is not strictly inherited, but it may have a gene...</td>\n",
       "      <td></td>\n",
       "    </tr>\n",
       "    <tr>\n",
       "      <th>2</th>\n",
       "      <td>What is (are) Hereditary sensory neuropathy type 1 ?</td>\n",
       "      <td>Hereditary sensory neuropathy type 1 (HSN1) is a neurological cond...</td>\n",
       "      <td>Hereditary sensory neuropathy type 1 (HSN1) is a genetic disorder ...</td>\n",
       "      <td>✔️ [True]</td>\n",
       "    </tr>\n",
       "    <tr>\n",
       "      <th>3</th>\n",
       "      <td>How to diagnose Childhood Vascular Tumors ?</td>\n",
       "      <td>Tests are used to detect (find) and diagnose childhood vascular tu...</td>\n",
       "      <td>To diagnose childhood vascular tumors, a combination of clinical e...</td>\n",
       "      <td>✔️ [True]</td>\n",
       "    </tr>\n",
       "    <tr>\n",
       "      <th>4</th>\n",
       "      <td>What are the treatments for Sideroblastic anemia pyridoxine-refrac...</td>\n",
       "      <td>How might sideroblastic anemia pyridoxine-refractory autosomal rec...</td>\n",
       "      <td>Treatments for pyridoxine-refractory autosomal recessive siderobla...</td>\n",
       "      <td>✔️ [True]</td>\n",
       "    </tr>\n",
       "  </tbody>\n",
       "</table>\n",
       "</div>"
      ],
      "text/plain": [
       "                                                        medical_question  \\\n",
       "0                     How many people are affected by Balance Problems ?   \n",
       "1                                        Is Moebius syndrome inherited ?   \n",
       "2                   What is (are) Hereditary sensory neuropathy type 1 ?   \n",
       "3                            How to diagnose Childhood Vascular Tumors ?   \n",
       "4  What are the treatments for Sideroblastic anemia pyridoxine-refrac...   \n",
       "\n",
       "                                                                  answer  \\\n",
       "0  In 2008, an estimated 14.8 percent of American adults (33.4 millio...   \n",
       "1  Most cases of Moebius syndrome are sporadic, which means they occu...   \n",
       "2  Hereditary sensory neuropathy type 1 (HSN1) is a neurological cond...   \n",
       "3  Tests are used to detect (find) and diagnose childhood vascular tu...   \n",
       "4  How might sideroblastic anemia pyridoxine-refractory autosomal rec...   \n",
       "\n",
       "                                                              prediction  \\\n",
       "0  Approximately 30% of older adults experience balance problems, but...   \n",
       "1  Moebius syndrome is not strictly inherited, but it may have a gene...   \n",
       "2  Hereditary sensory neuropathy type 1 (HSN1) is a genetic disorder ...   \n",
       "3  To diagnose childhood vascular tumors, a combination of clinical e...   \n",
       "4  Treatments for pyridoxine-refractory autosomal recessive siderobla...   \n",
       "\n",
       "      metric  \n",
       "0             \n",
       "1             \n",
       "2  ✔️ [True]  \n",
       "3  ✔️ [True]  \n",
       "4  ✔️ [True]  "
      ]
     },
     "metadata": {},
     "output_type": "display_data"
    },
    {
     "data": {
      "text/html": [
       "\n",
       "            <div style='\n",
       "                text-align: center;\n",
       "                font-size: 16px;\n",
       "                font-weight: bold;\n",
       "                color: #555;\n",
       "                margin: 10px 0;'>\n",
       "                ... 95 more rows not displayed ...\n",
       "            </div>\n",
       "            "
      ],
      "text/plain": [
       "<IPython.core.display.HTML object>"
      ]
     },
     "metadata": {},
     "output_type": "display_data"
    },
    {
     "name": "stdout",
     "output_type": "stream",
     "text": [
      "Question: How many people are affected by Balance Problems ?\n",
      "Answer: Approximately 30% of older adults experience balance problems, but the total number of affected individuals can vary widely depending on age and underlying health conditions.\n",
      "\n",
      "Question: Is Moebius syndrome inherited ?\n",
      "Answer: Moebius syndrome is not strictly inherited, but it may have a genetic component in some cases.\n",
      "\n",
      "Question: What is (are) Hereditary sensory neuropathy type 1 ?\n",
      "Answer: Hereditary sensory neuropathy type 1 (HSN1) is a genetic disorder that affects the sensory nerves, leading to progressive loss of sensation, particularly pain and temperature. It is caused by mutations in specific genes and can result in complications due to the inability to feel pain.\n",
      "\n"
     ]
    }
   ],
   "source": [
    "from agent import Agent\n",
    "from preprocess import train\n",
    "import dspy\n",
    "\n",
    "agent = Agent()\n",
    "\n",
    "hist = dspy.History(messages=[])\n",
    "\n",
    "for i in range(3):\n",
    "    response = agent.forward(medical_question=train[i].medical_question, history=hist)\n",
    "    print(f\"Question: {train[i].medical_question}\\nAnswer: {response}\\n\")\n"
   ]
  },
  {
   "cell_type": "code",
   "execution_count": null,
   "id": "4ae397f5",
   "metadata": {},
   "outputs": [],
   "source": []
  }
 ],
 "metadata": {
  "kernelspec": {
   "display_name": ".venv",
   "language": "python",
   "name": "python3"
  },
  "language_info": {
   "codemirror_mode": {
    "name": "ipython",
    "version": 3
   },
   "file_extension": ".py",
   "mimetype": "text/x-python",
   "name": "python",
   "nbconvert_exporter": "python",
   "pygments_lexer": "ipython3",
   "version": "3.11.10"
  }
 },
 "nbformat": 4,
 "nbformat_minor": 5
}
